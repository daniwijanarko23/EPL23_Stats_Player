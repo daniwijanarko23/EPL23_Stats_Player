{
 "cells": [
  {
   "cell_type": "code",
   "execution_count": 1,
   "id": "941d7d75",
   "metadata": {},
   "outputs": [],
   "source": [
    "import pandas as pd\n",
    "from bs4 import BeautifulSoup\n",
    "import numpy as np\n",
    "import requests"
   ]
  },
  {
   "cell_type": "code",
   "execution_count": 2,
   "id": "511e7806",
   "metadata": {},
   "outputs": [],
   "source": [
    "url = 'https://fbref.com/en/comps/9/stats/Premier-League-Stats'"
   ]
  },
  {
   "cell_type": "code",
   "execution_count": 3,
   "id": "8a706557",
   "metadata": {},
   "outputs": [],
   "source": [
    "r = requests.get(url)"
   ]
  },
  {
   "cell_type": "code",
   "execution_count": 4,
   "id": "b9683e60",
   "metadata": {},
   "outputs": [],
   "source": [
    "soup = BeautifulSoup(r.text)\n",
    "standings_table = soup.select('table.stats_table')[0]\n",
    "links = standings_table.find_all('a')\n",
    "links_url = [l.get('href') for l in links]"
   ]
  },
  {
   "cell_type": "code",
   "execution_count": 5,
   "id": "66a14889",
   "metadata": {},
   "outputs": [],
   "source": [
    "team_url = [f'https://fbref.com{l}' for l in links_url]"
   ]
  },
  {
   "cell_type": "code",
   "execution_count": 6,
   "id": "2a815828",
   "metadata": {},
   "outputs": [
    {
     "data": {
      "text/plain": [
       "['https://fbref.com/en/squads/18bb7c10/Arsenal-Stats',\n",
       " 'https://fbref.com/en/squads/8602292d/Aston-Villa-Stats',\n",
       " 'https://fbref.com/en/squads/4ba7cbea/Bournemouth-Stats',\n",
       " 'https://fbref.com/en/squads/cd051869/Brentford-Stats',\n",
       " 'https://fbref.com/en/squads/d07537b9/Brighton-and-Hove-Albion-Stats',\n",
       " 'https://fbref.com/en/squads/cff3d9bb/Chelsea-Stats',\n",
       " 'https://fbref.com/en/squads/47c64c55/Crystal-Palace-Stats',\n",
       " 'https://fbref.com/en/squads/d3fd31cc/Everton-Stats',\n",
       " 'https://fbref.com/en/squads/fd962109/Fulham-Stats',\n",
       " 'https://fbref.com/en/squads/5bfb9659/Leeds-United-Stats',\n",
       " 'https://fbref.com/en/squads/a2d435b3/Leicester-City-Stats',\n",
       " 'https://fbref.com/en/squads/822bd0ba/Liverpool-Stats',\n",
       " 'https://fbref.com/en/squads/b8fd03ef/Manchester-City-Stats',\n",
       " 'https://fbref.com/en/squads/19538871/Manchester-United-Stats',\n",
       " 'https://fbref.com/en/squads/b2b47a98/Newcastle-United-Stats',\n",
       " 'https://fbref.com/en/squads/e4a775cb/Nottingham-Forest-Stats',\n",
       " 'https://fbref.com/en/squads/33c895d4/Southampton-Stats',\n",
       " 'https://fbref.com/en/squads/361ca564/Tottenham-Hotspur-Stats',\n",
       " 'https://fbref.com/en/squads/7c21e445/West-Ham-United-Stats',\n",
       " 'https://fbref.com/en/squads/8cec06e1/Wolverhampton-Wanderers-Stats']"
      ]
     },
     "execution_count": 6,
     "metadata": {},
     "output_type": "execute_result"
    }
   ],
   "source": [
    "team_url"
   ]
  },
  {
   "cell_type": "code",
   "execution_count": 7,
   "id": "bbdbaadd",
   "metadata": {},
   "outputs": [
    {
     "name": "stderr",
     "output_type": "stream",
     "text": [
      "C:\\Users\\daniw\\AppData\\Local\\Temp\\ipykernel_4188\\283029746.py:5: PerformanceWarning: dropping on a non-lexsorted multi-index without a level parameter may impact performance.\n",
      "  club_stats = club_stats.drop('Per 90 Minutes', axis=1)\n",
      "C:\\Users\\daniw\\AppData\\Local\\Temp\\ipykernel_4188\\283029746.py:5: PerformanceWarning: dropping on a non-lexsorted multi-index without a level parameter may impact performance.\n",
      "  club_stats = club_stats.drop('Per 90 Minutes', axis=1)\n",
      "C:\\Users\\daniw\\AppData\\Local\\Temp\\ipykernel_4188\\283029746.py:5: PerformanceWarning: dropping on a non-lexsorted multi-index without a level parameter may impact performance.\n",
      "  club_stats = club_stats.drop('Per 90 Minutes', axis=1)\n",
      "C:\\Users\\daniw\\AppData\\Local\\Temp\\ipykernel_4188\\283029746.py:5: PerformanceWarning: dropping on a non-lexsorted multi-index without a level parameter may impact performance.\n",
      "  club_stats = club_stats.drop('Per 90 Minutes', axis=1)\n",
      "C:\\Users\\daniw\\AppData\\Local\\Temp\\ipykernel_4188\\283029746.py:5: PerformanceWarning: dropping on a non-lexsorted multi-index without a level parameter may impact performance.\n",
      "  club_stats = club_stats.drop('Per 90 Minutes', axis=1)\n",
      "C:\\Users\\daniw\\AppData\\Local\\Temp\\ipykernel_4188\\283029746.py:5: PerformanceWarning: dropping on a non-lexsorted multi-index without a level parameter may impact performance.\n",
      "  club_stats = club_stats.drop('Per 90 Minutes', axis=1)\n",
      "C:\\Users\\daniw\\AppData\\Local\\Temp\\ipykernel_4188\\283029746.py:5: PerformanceWarning: dropping on a non-lexsorted multi-index without a level parameter may impact performance.\n",
      "  club_stats = club_stats.drop('Per 90 Minutes', axis=1)\n",
      "C:\\Users\\daniw\\AppData\\Local\\Temp\\ipykernel_4188\\283029746.py:5: PerformanceWarning: dropping on a non-lexsorted multi-index without a level parameter may impact performance.\n",
      "  club_stats = club_stats.drop('Per 90 Minutes', axis=1)\n",
      "C:\\Users\\daniw\\AppData\\Local\\Temp\\ipykernel_4188\\283029746.py:5: PerformanceWarning: dropping on a non-lexsorted multi-index without a level parameter may impact performance.\n",
      "  club_stats = club_stats.drop('Per 90 Minutes', axis=1)\n",
      "C:\\Users\\daniw\\AppData\\Local\\Temp\\ipykernel_4188\\283029746.py:5: PerformanceWarning: dropping on a non-lexsorted multi-index without a level parameter may impact performance.\n",
      "  club_stats = club_stats.drop('Per 90 Minutes', axis=1)\n",
      "C:\\Users\\daniw\\AppData\\Local\\Temp\\ipykernel_4188\\283029746.py:5: PerformanceWarning: dropping on a non-lexsorted multi-index without a level parameter may impact performance.\n",
      "  club_stats = club_stats.drop('Per 90 Minutes', axis=1)\n",
      "C:\\Users\\daniw\\AppData\\Local\\Temp\\ipykernel_4188\\283029746.py:5: PerformanceWarning: dropping on a non-lexsorted multi-index without a level parameter may impact performance.\n",
      "  club_stats = club_stats.drop('Per 90 Minutes', axis=1)\n",
      "C:\\Users\\daniw\\AppData\\Local\\Temp\\ipykernel_4188\\283029746.py:5: PerformanceWarning: dropping on a non-lexsorted multi-index without a level parameter may impact performance.\n",
      "  club_stats = club_stats.drop('Per 90 Minutes', axis=1)\n",
      "C:\\Users\\daniw\\AppData\\Local\\Temp\\ipykernel_4188\\283029746.py:5: PerformanceWarning: dropping on a non-lexsorted multi-index without a level parameter may impact performance.\n",
      "  club_stats = club_stats.drop('Per 90 Minutes', axis=1)\n",
      "C:\\Users\\daniw\\AppData\\Local\\Temp\\ipykernel_4188\\283029746.py:5: PerformanceWarning: dropping on a non-lexsorted multi-index without a level parameter may impact performance.\n",
      "  club_stats = club_stats.drop('Per 90 Minutes', axis=1)\n",
      "C:\\Users\\daniw\\AppData\\Local\\Temp\\ipykernel_4188\\283029746.py:5: PerformanceWarning: dropping on a non-lexsorted multi-index without a level parameter may impact performance.\n",
      "  club_stats = club_stats.drop('Per 90 Minutes', axis=1)\n",
      "C:\\Users\\daniw\\AppData\\Local\\Temp\\ipykernel_4188\\283029746.py:5: PerformanceWarning: dropping on a non-lexsorted multi-index without a level parameter may impact performance.\n",
      "  club_stats = club_stats.drop('Per 90 Minutes', axis=1)\n",
      "C:\\Users\\daniw\\AppData\\Local\\Temp\\ipykernel_4188\\283029746.py:5: PerformanceWarning: dropping on a non-lexsorted multi-index without a level parameter may impact performance.\n",
      "  club_stats = club_stats.drop('Per 90 Minutes', axis=1)\n",
      "C:\\Users\\daniw\\AppData\\Local\\Temp\\ipykernel_4188\\283029746.py:5: PerformanceWarning: dropping on a non-lexsorted multi-index without a level parameter may impact performance.\n",
      "  club_stats = club_stats.drop('Per 90 Minutes', axis=1)\n",
      "C:\\Users\\daniw\\AppData\\Local\\Temp\\ipykernel_4188\\283029746.py:5: PerformanceWarning: dropping on a non-lexsorted multi-index without a level parameter may impact performance.\n",
      "  club_stats = club_stats.drop('Per 90 Minutes', axis=1)\n"
     ]
    }
   ],
   "source": [
    "all_club_stats = []\n",
    "for i in team_url :\n",
    "    team_name = i.split('/')[-1]\n",
    "    club_stats = pd.read_html(i, match='Standard Stats')[0]\n",
    "    club_stats = club_stats.drop('Per 90 Minutes', axis=1)\n",
    "    club_stats.columns = club_stats.columns.droplevel()\n",
    "    club_stats['Club'] = team_name\n",
    "    club_stats.dropna(axis=0, inplace=True)\n",
    "    club_stats['Nation'] = [i.split(' ')[-1] for i in club_stats['Nation']]\n",
    "    all_club_stats.append(club_stats)"
   ]
  },
  {
   "cell_type": "code",
   "execution_count": 8,
   "id": "0f212c30",
   "metadata": {},
   "outputs": [],
   "source": [
    "offensive_stats = pd.concat(all_club_stats, join='outer')"
   ]
  },
  {
   "cell_type": "code",
   "execution_count": 9,
   "id": "905f57d2",
   "metadata": {},
   "outputs": [
    {
     "data": {
      "text/plain": [
       "(568, 25)"
      ]
     },
     "execution_count": 9,
     "metadata": {},
     "output_type": "execute_result"
    }
   ],
   "source": [
    "offensive_stats.shape"
   ]
  },
  {
   "cell_type": "code",
   "execution_count": 10,
   "id": "fcd8f1d0",
   "metadata": {},
   "outputs": [
    {
     "data": {
      "text/html": [
       "<div>\n",
       "<style scoped>\n",
       "    .dataframe tbody tr th:only-of-type {\n",
       "        vertical-align: middle;\n",
       "    }\n",
       "\n",
       "    .dataframe tbody tr th {\n",
       "        vertical-align: top;\n",
       "    }\n",
       "\n",
       "    .dataframe thead th {\n",
       "        text-align: right;\n",
       "    }\n",
       "</style>\n",
       "<table border=\"1\" class=\"dataframe\">\n",
       "  <thead>\n",
       "    <tr style=\"text-align: right;\">\n",
       "      <th></th>\n",
       "      <th>Player</th>\n",
       "      <th>Nation</th>\n",
       "      <th>Pos</th>\n",
       "      <th>Age</th>\n",
       "      <th>MP</th>\n",
       "      <th>Starts</th>\n",
       "      <th>Min</th>\n",
       "      <th>90s</th>\n",
       "      <th>Gls</th>\n",
       "      <th>Ast</th>\n",
       "      <th>...</th>\n",
       "      <th>CrdR</th>\n",
       "      <th>xG</th>\n",
       "      <th>npxG</th>\n",
       "      <th>xAG</th>\n",
       "      <th>npxG+xAG</th>\n",
       "      <th>PrgC</th>\n",
       "      <th>PrgP</th>\n",
       "      <th>PrgR</th>\n",
       "      <th>Matches</th>\n",
       "      <th>Club</th>\n",
       "    </tr>\n",
       "  </thead>\n",
       "  <tbody>\n",
       "    <tr>\n",
       "      <th>0</th>\n",
       "      <td>Aaron Ramsdale</td>\n",
       "      <td>ENG</td>\n",
       "      <td>GK</td>\n",
       "      <td>24.0</td>\n",
       "      <td>38</td>\n",
       "      <td>38</td>\n",
       "      <td>3420.0</td>\n",
       "      <td>38.0</td>\n",
       "      <td>0.0</td>\n",
       "      <td>0.0</td>\n",
       "      <td>...</td>\n",
       "      <td>0.0</td>\n",
       "      <td>0.0</td>\n",
       "      <td>0.0</td>\n",
       "      <td>0.0</td>\n",
       "      <td>0.0</td>\n",
       "      <td>0.0</td>\n",
       "      <td>8.0</td>\n",
       "      <td>0.0</td>\n",
       "      <td>Matches</td>\n",
       "      <td>Arsenal-Stats</td>\n",
       "    </tr>\n",
       "    <tr>\n",
       "      <th>1</th>\n",
       "      <td>Gabriel Dos Santos</td>\n",
       "      <td>BRA</td>\n",
       "      <td>DF</td>\n",
       "      <td>24.0</td>\n",
       "      <td>38</td>\n",
       "      <td>38</td>\n",
       "      <td>3409.0</td>\n",
       "      <td>37.9</td>\n",
       "      <td>3.0</td>\n",
       "      <td>0.0</td>\n",
       "      <td>...</td>\n",
       "      <td>0.0</td>\n",
       "      <td>5.1</td>\n",
       "      <td>5.1</td>\n",
       "      <td>0.3</td>\n",
       "      <td>5.3</td>\n",
       "      <td>18.0</td>\n",
       "      <td>153.0</td>\n",
       "      <td>16.0</td>\n",
       "      <td>Matches</td>\n",
       "      <td>Arsenal-Stats</td>\n",
       "    </tr>\n",
       "    <tr>\n",
       "      <th>2</th>\n",
       "      <td>Bukayo Saka</td>\n",
       "      <td>ENG</td>\n",
       "      <td>FW</td>\n",
       "      <td>20.0</td>\n",
       "      <td>38</td>\n",
       "      <td>37</td>\n",
       "      <td>3181.0</td>\n",
       "      <td>35.3</td>\n",
       "      <td>14.0</td>\n",
       "      <td>11.0</td>\n",
       "      <td>...</td>\n",
       "      <td>0.0</td>\n",
       "      <td>11.2</td>\n",
       "      <td>9.1</td>\n",
       "      <td>8.5</td>\n",
       "      <td>17.6</td>\n",
       "      <td>179.0</td>\n",
       "      <td>109.0</td>\n",
       "      <td>520.0</td>\n",
       "      <td>Matches</td>\n",
       "      <td>Arsenal-Stats</td>\n",
       "    </tr>\n",
       "    <tr>\n",
       "      <th>3</th>\n",
       "      <td>Martin Ødegaard</td>\n",
       "      <td>NOR</td>\n",
       "      <td>MF</td>\n",
       "      <td>23.0</td>\n",
       "      <td>37</td>\n",
       "      <td>37</td>\n",
       "      <td>3127.0</td>\n",
       "      <td>34.7</td>\n",
       "      <td>15.0</td>\n",
       "      <td>7.0</td>\n",
       "      <td>...</td>\n",
       "      <td>0.0</td>\n",
       "      <td>10.0</td>\n",
       "      <td>10.0</td>\n",
       "      <td>8.1</td>\n",
       "      <td>18.1</td>\n",
       "      <td>83.0</td>\n",
       "      <td>266.0</td>\n",
       "      <td>193.0</td>\n",
       "      <td>Matches</td>\n",
       "      <td>Arsenal-Stats</td>\n",
       "    </tr>\n",
       "    <tr>\n",
       "      <th>4</th>\n",
       "      <td>Ben White</td>\n",
       "      <td>ENG</td>\n",
       "      <td>DF</td>\n",
       "      <td>24.0</td>\n",
       "      <td>38</td>\n",
       "      <td>36</td>\n",
       "      <td>3055.0</td>\n",
       "      <td>33.9</td>\n",
       "      <td>2.0</td>\n",
       "      <td>5.0</td>\n",
       "      <td>...</td>\n",
       "      <td>0.0</td>\n",
       "      <td>1.3</td>\n",
       "      <td>1.3</td>\n",
       "      <td>3.2</td>\n",
       "      <td>4.5</td>\n",
       "      <td>64.0</td>\n",
       "      <td>249.0</td>\n",
       "      <td>124.0</td>\n",
       "      <td>Matches</td>\n",
       "      <td>Arsenal-Stats</td>\n",
       "    </tr>\n",
       "  </tbody>\n",
       "</table>\n",
       "<p>5 rows × 25 columns</p>\n",
       "</div>"
      ],
      "text/plain": [
       "               Player Nation Pos   Age  MP  Starts     Min   90s   Gls   Ast  \\\n",
       "0      Aaron Ramsdale    ENG  GK  24.0  38      38  3420.0  38.0   0.0   0.0   \n",
       "1  Gabriel Dos Santos    BRA  DF  24.0  38      38  3409.0  37.9   3.0   0.0   \n",
       "2         Bukayo Saka    ENG  FW  20.0  38      37  3181.0  35.3  14.0  11.0   \n",
       "3     Martin Ødegaard    NOR  MF  23.0  37      37  3127.0  34.7  15.0   7.0   \n",
       "4           Ben White    ENG  DF  24.0  38      36  3055.0  33.9   2.0   5.0   \n",
       "\n",
       "   ...  CrdR    xG  npxG  xAG  npxG+xAG   PrgC   PrgP   PrgR  Matches  \\\n",
       "0  ...   0.0   0.0   0.0  0.0       0.0    0.0    8.0    0.0  Matches   \n",
       "1  ...   0.0   5.1   5.1  0.3       5.3   18.0  153.0   16.0  Matches   \n",
       "2  ...   0.0  11.2   9.1  8.5      17.6  179.0  109.0  520.0  Matches   \n",
       "3  ...   0.0  10.0  10.0  8.1      18.1   83.0  266.0  193.0  Matches   \n",
       "4  ...   0.0   1.3   1.3  3.2       4.5   64.0  249.0  124.0  Matches   \n",
       "\n",
       "            Club  \n",
       "0  Arsenal-Stats  \n",
       "1  Arsenal-Stats  \n",
       "2  Arsenal-Stats  \n",
       "3  Arsenal-Stats  \n",
       "4  Arsenal-Stats  \n",
       "\n",
       "[5 rows x 25 columns]"
      ]
     },
     "execution_count": 10,
     "metadata": {},
     "output_type": "execute_result"
    }
   ],
   "source": [
    "offensive_stats.head()"
   ]
  },
  {
   "cell_type": "code",
   "execution_count": 11,
   "id": "27cffc76",
   "metadata": {},
   "outputs": [
    {
     "data": {
      "text/plain": [
       "Index(['Player', 'Nation', 'Pos', 'Age', 'MP', 'Starts', 'Min', '90s', 'Gls',\n",
       "       'Ast', 'G+A', 'G-PK', 'PK', 'PKatt', 'CrdY', 'CrdR', 'xG', 'npxG',\n",
       "       'xAG', 'npxG+xAG', 'PrgC', 'PrgP', 'PrgR', 'Matches', 'Club'],\n",
       "      dtype='object')"
      ]
     },
     "execution_count": 11,
     "metadata": {},
     "output_type": "execute_result"
    }
   ],
   "source": [
    "offensive_stats.columns"
   ]
  },
  {
   "cell_type": "code",
   "execution_count": 12,
   "id": "a43aea99",
   "metadata": {},
   "outputs": [],
   "source": [
    "defensive_stats = []\n",
    "for i in team_url :\n",
    "    def_stats = pd.read_html(i, match='Defensive Actions')[0]\n",
    "    def_stats.columns = def_stats.columns.droplevel()\n",
    "    def_stats.dropna(axis=0, inplace=True)\n",
    "    def_stats['Nation'] = [i.split(' ')[-1] for i in def_stats['Nation']]\n",
    "    defensive_stats.append(def_stats)"
   ]
  },
  {
   "cell_type": "code",
   "execution_count": 13,
   "id": "1fe7cc5c",
   "metadata": {},
   "outputs": [],
   "source": [
    "defensive_stats = pd.concat(defensive_stats, join='outer')"
   ]
  },
  {
   "cell_type": "code",
   "execution_count": 14,
   "id": "608057a5",
   "metadata": {},
   "outputs": [
    {
     "data": {
      "text/plain": [
       "(504, 22)"
      ]
     },
     "execution_count": 14,
     "metadata": {},
     "output_type": "execute_result"
    }
   ],
   "source": [
    "defensive_stats.shape"
   ]
  },
  {
   "cell_type": "code",
   "execution_count": 15,
   "id": "1d647f24",
   "metadata": {},
   "outputs": [],
   "source": [
    "all_stats = pd.merge(offensive_stats, defensive_stats, left_on=['Player','Nation','Pos', 'Age', '90s', 'Matches'], right_on=['Player','Nation','Pos', 'Age', '90s', 'Matches'])"
   ]
  },
  {
   "cell_type": "code",
   "execution_count": 16,
   "id": "db3c4320",
   "metadata": {},
   "outputs": [
    {
     "data": {
      "text/html": [
       "<div>\n",
       "<style scoped>\n",
       "    .dataframe tbody tr th:only-of-type {\n",
       "        vertical-align: middle;\n",
       "    }\n",
       "\n",
       "    .dataframe tbody tr th {\n",
       "        vertical-align: top;\n",
       "    }\n",
       "\n",
       "    .dataframe thead th {\n",
       "        text-align: right;\n",
       "    }\n",
       "</style>\n",
       "<table border=\"1\" class=\"dataframe\">\n",
       "  <thead>\n",
       "    <tr style=\"text-align: right;\">\n",
       "      <th></th>\n",
       "      <th>Player</th>\n",
       "      <th>Nation</th>\n",
       "      <th>Pos</th>\n",
       "      <th>Age</th>\n",
       "      <th>MP</th>\n",
       "      <th>Starts</th>\n",
       "      <th>Min</th>\n",
       "      <th>90s</th>\n",
       "      <th>Gls</th>\n",
       "      <th>Ast</th>\n",
       "      <th>...</th>\n",
       "      <th>Att</th>\n",
       "      <th>Tkl%</th>\n",
       "      <th>Lost</th>\n",
       "      <th>Blocks</th>\n",
       "      <th>Sh</th>\n",
       "      <th>Pass</th>\n",
       "      <th>Int</th>\n",
       "      <th>Tkl+Int</th>\n",
       "      <th>Clr</th>\n",
       "      <th>Err</th>\n",
       "    </tr>\n",
       "  </thead>\n",
       "  <tbody>\n",
       "    <tr>\n",
       "      <th>0</th>\n",
       "      <td>Aaron Ramsdale</td>\n",
       "      <td>ENG</td>\n",
       "      <td>GK</td>\n",
       "      <td>24.0</td>\n",
       "      <td>38</td>\n",
       "      <td>38</td>\n",
       "      <td>3420.0</td>\n",
       "      <td>38.0</td>\n",
       "      <td>0.0</td>\n",
       "      <td>0.0</td>\n",
       "      <td>...</td>\n",
       "      <td>1</td>\n",
       "      <td>100.0</td>\n",
       "      <td>0</td>\n",
       "      <td>0</td>\n",
       "      <td>0</td>\n",
       "      <td>0</td>\n",
       "      <td>0</td>\n",
       "      <td>1</td>\n",
       "      <td>20</td>\n",
       "      <td>6</td>\n",
       "    </tr>\n",
       "    <tr>\n",
       "      <th>1</th>\n",
       "      <td>Gabriel Dos Santos</td>\n",
       "      <td>BRA</td>\n",
       "      <td>DF</td>\n",
       "      <td>24.0</td>\n",
       "      <td>38</td>\n",
       "      <td>38</td>\n",
       "      <td>3409.0</td>\n",
       "      <td>37.9</td>\n",
       "      <td>3.0</td>\n",
       "      <td>0.0</td>\n",
       "      <td>...</td>\n",
       "      <td>27</td>\n",
       "      <td>66.7</td>\n",
       "      <td>9</td>\n",
       "      <td>49</td>\n",
       "      <td>26</td>\n",
       "      <td>23</td>\n",
       "      <td>32</td>\n",
       "      <td>80</td>\n",
       "      <td>125</td>\n",
       "      <td>2</td>\n",
       "    </tr>\n",
       "    <tr>\n",
       "      <th>2</th>\n",
       "      <td>Bukayo Saka</td>\n",
       "      <td>ENG</td>\n",
       "      <td>FW</td>\n",
       "      <td>20.0</td>\n",
       "      <td>38</td>\n",
       "      <td>37</td>\n",
       "      <td>3181.0</td>\n",
       "      <td>35.3</td>\n",
       "      <td>14.0</td>\n",
       "      <td>11.0</td>\n",
       "      <td>...</td>\n",
       "      <td>44</td>\n",
       "      <td>45.5</td>\n",
       "      <td>24</td>\n",
       "      <td>38</td>\n",
       "      <td>0</td>\n",
       "      <td>38</td>\n",
       "      <td>14</td>\n",
       "      <td>77</td>\n",
       "      <td>19</td>\n",
       "      <td>0</td>\n",
       "    </tr>\n",
       "    <tr>\n",
       "      <th>3</th>\n",
       "      <td>Martin Ødegaard</td>\n",
       "      <td>NOR</td>\n",
       "      <td>MF</td>\n",
       "      <td>23.0</td>\n",
       "      <td>37</td>\n",
       "      <td>37</td>\n",
       "      <td>3127.0</td>\n",
       "      <td>34.7</td>\n",
       "      <td>15.0</td>\n",
       "      <td>7.0</td>\n",
       "      <td>...</td>\n",
       "      <td>47</td>\n",
       "      <td>29.8</td>\n",
       "      <td>33</td>\n",
       "      <td>20</td>\n",
       "      <td>5</td>\n",
       "      <td>15</td>\n",
       "      <td>6</td>\n",
       "      <td>42</td>\n",
       "      <td>12</td>\n",
       "      <td>1</td>\n",
       "    </tr>\n",
       "    <tr>\n",
       "      <th>4</th>\n",
       "      <td>Ben White</td>\n",
       "      <td>ENG</td>\n",
       "      <td>DF</td>\n",
       "      <td>24.0</td>\n",
       "      <td>38</td>\n",
       "      <td>36</td>\n",
       "      <td>3055.0</td>\n",
       "      <td>33.9</td>\n",
       "      <td>2.0</td>\n",
       "      <td>5.0</td>\n",
       "      <td>...</td>\n",
       "      <td>70</td>\n",
       "      <td>60.0</td>\n",
       "      <td>28</td>\n",
       "      <td>47</td>\n",
       "      <td>11</td>\n",
       "      <td>36</td>\n",
       "      <td>22</td>\n",
       "      <td>82</td>\n",
       "      <td>79</td>\n",
       "      <td>1</td>\n",
       "    </tr>\n",
       "  </tbody>\n",
       "</table>\n",
       "<p>5 rows × 41 columns</p>\n",
       "</div>"
      ],
      "text/plain": [
       "               Player Nation Pos   Age  MP  Starts     Min   90s   Gls   Ast  \\\n",
       "0      Aaron Ramsdale    ENG  GK  24.0  38      38  3420.0  38.0   0.0   0.0   \n",
       "1  Gabriel Dos Santos    BRA  DF  24.0  38      38  3409.0  37.9   3.0   0.0   \n",
       "2         Bukayo Saka    ENG  FW  20.0  38      37  3181.0  35.3  14.0  11.0   \n",
       "3     Martin Ødegaard    NOR  MF  23.0  37      37  3127.0  34.7  15.0   7.0   \n",
       "4           Ben White    ENG  DF  24.0  38      36  3055.0  33.9   2.0   5.0   \n",
       "\n",
       "   ...  Att   Tkl%  Lost  Blocks  Sh  Pass  Int  Tkl+Int  Clr  Err  \n",
       "0  ...    1  100.0     0       0   0     0    0        1   20    6  \n",
       "1  ...   27   66.7     9      49  26    23   32       80  125    2  \n",
       "2  ...   44   45.5    24      38   0    38   14       77   19    0  \n",
       "3  ...   47   29.8    33      20   5    15    6       42   12    1  \n",
       "4  ...   70   60.0    28      47  11    36   22       82   79    1  \n",
       "\n",
       "[5 rows x 41 columns]"
      ]
     },
     "execution_count": 16,
     "metadata": {},
     "output_type": "execute_result"
    }
   ],
   "source": [
    "all_stats.head()"
   ]
  },
  {
   "cell_type": "code",
   "execution_count": 17,
   "id": "1733e1ec",
   "metadata": {},
   "outputs": [
    {
     "data": {
      "text/plain": [
       "(504, 41)"
      ]
     },
     "execution_count": 17,
     "metadata": {},
     "output_type": "execute_result"
    }
   ],
   "source": [
    "all_stats.shape"
   ]
  },
  {
   "cell_type": "code",
   "execution_count": 20,
   "id": "0c10c25f",
   "metadata": {},
   "outputs": [
    {
     "data": {
      "text/plain": [
       "0                      Arsenal-Stats\n",
       "1                      Arsenal-Stats\n",
       "2                      Arsenal-Stats\n",
       "3                      Arsenal-Stats\n",
       "4                      Arsenal-Stats\n",
       "                   ...              \n",
       "499    Wolverhampton-Wanderers-Stats\n",
       "500    Wolverhampton-Wanderers-Stats\n",
       "501    Wolverhampton-Wanderers-Stats\n",
       "502    Wolverhampton-Wanderers-Stats\n",
       "503    Wolverhampton-Wanderers-Stats\n",
       "Name: Club, Length: 504, dtype: object"
      ]
     },
     "execution_count": 20,
     "metadata": {},
     "output_type": "execute_result"
    }
   ],
   "source": [
    "all_stats.Club"
   ]
  },
  {
   "cell_type": "code",
   "execution_count": 22,
   "id": "813a8cbb",
   "metadata": {},
   "outputs": [
    {
     "data": {
      "text/plain": [
       "array(['Arsenal ', 'Aston Villa ', 'Bournemouth ', 'Brentford ',\n",
       "       'Brighton and Hove Albion ', 'Chelsea ', 'Crystal Palace ',\n",
       "       'Everton ', 'Fulham ', 'Leeds United ', 'Leicester City ',\n",
       "       'Liverpool ', 'Manchester City ', 'Manchester United ',\n",
       "       'Newcastle United ', 'Nottingham Forest ', 'Southampton ',\n",
       "       'Tottenham Hotspur ', 'West Ham United ',\n",
       "       'Wolverhampton Wanderers '], dtype=object)"
      ]
     },
     "execution_count": 22,
     "metadata": {},
     "output_type": "execute_result"
    }
   ],
   "source": [
    "all_stats['Club'] = all_stats['Club'].apply(lambda x : x.replace('-', ' ').replace('Stats', ''))\n",
    "all_stats.Club.unique()"
   ]
  },
  {
   "cell_type": "code",
   "execution_count": 23,
   "id": "2ab689d9",
   "metadata": {},
   "outputs": [],
   "source": [
    "all_stats.to_csv('all stats premier league 22-23.csv')"
   ]
  }
 ],
 "metadata": {
  "kernelspec": {
   "display_name": "Python 3 (ipykernel)",
   "language": "python",
   "name": "python3"
  },
  "language_info": {
   "codemirror_mode": {
    "name": "ipython",
    "version": 3
   },
   "file_extension": ".py",
   "mimetype": "text/x-python",
   "name": "python",
   "nbconvert_exporter": "python",
   "pygments_lexer": "ipython3",
   "version": "3.10.11"
  }
 },
 "nbformat": 4,
 "nbformat_minor": 5
}
